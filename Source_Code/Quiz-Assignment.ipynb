{
 "cells": [
  {
   "cell_type": "code",
   "execution_count": 3,
   "metadata": {},
   "outputs": [],
   "source": [
    "import numpy as np\n",
    "import matplotlib.pyplot as plt\n",
    "import os\n",
    "import cv2\n",
    "import random\n",
    "from numpy import linalg as LA\n",
    "import math\n",
    "from tqdm import tqdm\n",
    "import csv\n",
    "import pandas as pd\n"
   ]
  },
  {
   "cell_type": "code",
   "execution_count": 4,
   "metadata": {},
   "outputs": [],
   "source": [
    "data = []\n",
    "catagories = ['airplane', 'automobile', 'bird', 'cat', 'deer', 'dog', 'frog', 'horse', 'ship', 'truck']   \n",
    "fold1 = []\n",
    "fold2 = []\n",
    "fold3 = []\n",
    "fold4 = []\n",
    "fold5 = []\n"
   ]
  },
  {
   "cell_type": "markdown",
   "metadata": {},
   "source": [
    "# Readind all 50,000 images from CIFAR10 data set's train folder and trainLabels.csv file.\n"
   ]
  },
  {
   "cell_type": "code",
   "execution_count": 5,
   "metadata": {},
   "outputs": [
    {
     "name": "stderr",
     "output_type": "stream",
     "text": [
      "100%|██████████████████████████████████████████████████████████████████████████| 50000/50000 [00:32<00:00, 1538.98it/s]\n"
     ]
    }
   ],
   "source": [
    "'''creates a list of all the images with their corresponding class'''\n",
    "\n",
    "_DATA_SET='CIFAR10'\n",
    "path=os.path.join(_DATA_SET,'train')\n",
    "f=pd.read_csv('CIFAR10/trainLabels.csv')\n",
    "\n",
    "for img in tqdm(os.listdir(path)): \n",
    "    img_split=img.split('.')\n",
    "    img_label=img_split[0]\n",
    "    img_label_index=int(img_label)-1\n",
    "    img_arr=cv2.imread(os.path.join(path,img))\n",
    "    class_name=catagories.index(f['label'][img_label_index])\n",
    "    data.append([img_arr,class_name])\n",
    "    \n",
    "'''output: a list of lists.\n",
    "   structure of list: [[image_array, class_num], [image_array, class_num]]\n",
    "   class_num -> to which catagory the image belongs to\n",
    "'''\n",
    "    \n",
    "    "
   ]
  },
  {
   "cell_type": "code",
   "execution_count": 6,
   "metadata": {},
   "outputs": [
    {
     "name": "stdout",
     "output_type": "stream",
     "text": [
      "5\n"
     ]
    }
   ],
   "source": [
    "print(data[3][1])"
   ]
  },
  {
   "cell_type": "code",
   "execution_count": 7,
   "metadata": {},
   "outputs": [],
   "source": [
    "'''compares two image and returns the score'''\n",
    "\n",
    "def compare_two_image(img1, img2, opr):\n",
    "    if opr == 'euclidean':\n",
    "        score = LA.norm(img1 - img2)\n",
    "    elif opr == 'manhattan':\n",
    "        score = np.sum(np.abs(img1 - img2))\n",
    "    return score"
   ]
  },
  {
   "cell_type": "markdown",
   "metadata": {},
   "source": [
    "# cross validation"
   ]
  },
  {
   "cell_type": "code",
   "execution_count": 8,
   "metadata": {},
   "outputs": [],
   "source": [
    "'''At first all 50,000 images are suffled then are devided into five lists each containing 10,000 lists for each images.'''\n",
    "\n",
    "temp = data[:]  \n",
    "random.shuffle(temp)\n",
    "fold1 = temp[0:10000]\n",
    "fold2 = temp[10000:20000]\n",
    "fold3 = temp[20000:30000]\n",
    "fold4 = temp[30000:40000]\n",
    "fold5 = temp[40000:50000]"
   ]
  },
  {
   "cell_type": "code",
   "execution_count": 9,
   "metadata": {},
   "outputs": [],
   "source": [
    "set1_fold = fold1 + fold2 + fold3 + fold4\n",
    "set1_validationfold = fold5\n",
    "\n",
    "set2_fold = fold1 + fold2 + fold3 + fold5\n",
    "set2_validationfold = fold4\n",
    "\n",
    "set3_fold = fold1 + fold2 + fold4 + fold5\n",
    "set3_validationfold = fold3\n",
    "\n",
    "set4_fold = fold1 + fold3 + fold4 + fold5\n",
    "set4_validationfold = fold2\n",
    "\n",
    "set5_fold = fold2 + fold3 + fold4 + fold5\n",
    "set5_validationfold = fold1"
   ]
  },
  {
   "cell_type": "code",
   "execution_count": 10,
   "metadata": {},
   "outputs": [],
   "source": [
    "# Training Set\n",
    "\n",
    "training_set_list = [set1_fold, set2_fold, set3_fold, set4_fold, set5_fold]\n",
    "\n",
    "# Validation set\n",
    "\n",
    "validation_set_list = [set1_validationfold, set2_validationfold, set3_validationfold, set4_validationfold, set5_validationfold]"
   ]
  },
  {
   "cell_type": "code",
   "execution_count": 11,
   "metadata": {},
   "outputs": [],
   "source": [
    "'''take one image from the validation_fold and find 20 most similar images from the other folds'''\n",
    "\n",
    "def k_fold_score(img, train_fold, k, opr):\n",
    "    \n",
    "    scorelist = []\n",
    "    for i in range(len(train_fold)):\n",
    "        score = compare_two_image(img, train_fold[i][0], opr)  # calls the compare_two_image function to find the distance.\n",
    "        if score != 0:\n",
    "            scorelist.append([score, train_fold[i][0], train_fold[i][1]])\n",
    "    scorelist.sort(key = lambda x: x[0])\n",
    "    return scorelist[:k]\n",
    "\n",
    "'''output: a list of lists that contains similar images of the image passed in the  input parameter.\n",
    "   returns in ascending order structure of list: [[score, image_array, class_num], [score, image_array, class_num]]\n",
    "'''"
   ]
  },
  {
   "cell_type": "markdown",
   "metadata": {},
   "source": [
    "# Here we store the 20 images of the closest distance to every images of validaion folders for all five sets so that we can use these values later for the value of k=1 to k=20"
   ]
  },
  {
   "cell_type": "code",
   "execution_count": 12,
   "metadata": {},
   "outputs": [
    {
     "name": "stderr",
     "output_type": "stream",
     "text": [
      "100%|████████████████████████████████████████████████████████████████████████████████| 5/5 [9:51:34<00:00, 7098.82s/it]\n"
     ]
    }
   ],
   "source": [
    "sorted_20=[]\n",
    "per_validation_image=[]\n",
    "per_fold=[]\n",
    "for set_iter in tqdm(range(0,5)):\n",
    "    for image_iter in range(len(fold5)):\n",
    "        sorted_20 = k_fold_score(validation_set_list[set_iter][image_iter][0], training_set_list[set_iter], 20, 'manhattan')\n",
    "        per_validation_image.append(sorted_20)\n",
    "        sorted_20=[]\n",
    "        \n",
    "    per_fold.append(per_validation_image)\n",
    "    per_validation_image=[]\n",
    "    \n",
    "    '''In per_fold list there are five lists, each list  contains 10,000 lists and there each list contains 20 lists\n",
    "      and there each list contains three valuses''' \n",
    "    "
   ]
  },
  {
   "cell_type": "code",
   "execution_count": 13,
   "metadata": {},
   "outputs": [
    {
     "name": "stdout",
     "output_type": "stream",
     "text": [
      "5\n"
     ]
    }
   ],
   "source": [
    "''' In next four sells we can see the structure of the list where the  closest  20 values for every image in \n",
    "validation_set_list is stored'''  \n",
    "\n",
    "print(len(per_fold))"
   ]
  },
  {
   "cell_type": "code",
   "execution_count": 14,
   "metadata": {},
   "outputs": [
    {
     "name": "stdout",
     "output_type": "stream",
     "text": [
      "10000\n"
     ]
    }
   ],
   "source": [
    "print(len(per_fold[2]))"
   ]
  },
  {
   "cell_type": "code",
   "execution_count": 15,
   "metadata": {},
   "outputs": [
    {
     "name": "stdout",
     "output_type": "stream",
     "text": [
      "20\n"
     ]
    }
   ],
   "source": [
    "print(len(per_fold[1][0]))"
   ]
  },
  {
   "cell_type": "code",
   "execution_count": 16,
   "metadata": {},
   "outputs": [
    {
     "name": "stdout",
     "output_type": "stream",
     "text": [
      "3\n"
     ]
    }
   ],
   "source": [
    "print(len(per_fold[1][0][3]))"
   ]
  },
  {
   "cell_type": "code",
   "execution_count": 17,
   "metadata": {},
   "outputs": [],
   "source": [
    "def duplicates(lst, item):\n",
    "      return [i for i, x in enumerate(lst) if x == item]"
   ]
  },
  {
   "cell_type": "code",
   "execution_count": 20,
   "metadata": {},
   "outputs": [],
   "source": [
    "#Part-1 ------------------------------------------------------------------"
   ]
  },
  {
   "cell_type": "code",
   "execution_count": 22,
   "metadata": {},
   "outputs": [
    {
     "name": "stderr",
     "output_type": "stream",
     "text": [
      "100%|██████████████████████████████████████████████████████████████████████████████████| 20/20 [00:20<00:00,  1.02s/it]\n"
     ]
    }
   ],
   "source": [
    "\n",
    "\n",
    "# graph_plot_list = []\n",
    "# for k in tqdm(range(1, 21)):     \n",
    "#     for set_iter in range(0, 5):\n",
    "       \n",
    "#         correct = 0 \n",
    "#         wrong = 0\n",
    "#         for image_iter in range(len(fold5)):\n",
    "            \n",
    "#             b = per_fold[set_iter][image_iter]\n",
    "#             a = b[0:k]\n",
    "#             c =  [0]*10\n",
    "#             d =  [0]*10\n",
    "#             for i in range(len(a)):\n",
    "#                 if a[i][2] == 0:\n",
    "#                     c[0] = c[0] + 1\n",
    "#                     d[0] = d[0] + a[i][0]\n",
    "                    \n",
    "#                 elif a[i][2] == 1:\n",
    "#                     c[1] = c[1] + 1\n",
    "#                     d[1] = d[1] + a[i][0]\n",
    "                    \n",
    "#                 elif a[i][2] == 2:\n",
    "#                     c[2] = c[2] + 1\n",
    "#                     d[2] = d[2] + a[i][0]\n",
    "                    \n",
    "#                 elif a[i][2] == 3:\n",
    "#                     c[3] = c[3] + 1\n",
    "#                     d[3] = d[3] + a[i][0]\n",
    "                    \n",
    "#                 elif a[i][2] == 4:\n",
    "#                     c[4] = c[4] + 1\n",
    "#                     d[4] = d[4] + a[i][0]\n",
    "                    \n",
    "#                 elif a[i][2] == 5:\n",
    "#                     c[5] = c[5] + 1\n",
    "#                     d[5] = d[5] + a[i][0]\n",
    "                    \n",
    "#                 elif a[i][2] == 6:\n",
    "#                     c[6] = c[6] + 1\n",
    "#                     d[6] = d[6] + a[i][0]\n",
    "                    \n",
    "#                 elif a[i][2] == 7:\n",
    "#                     c[7] = c[7] + 1\n",
    "#                     d[7] = d[7] + a[i][0]\n",
    "                    \n",
    "#                 elif a[i][2] == 8:\n",
    "#                     c[8] = c[8] + 1\n",
    "#                     d[8] = d[8] + a[i][0]\n",
    "                    \n",
    "#                 elif a[i][2] == 9:\n",
    "#                     c[9] = c[9] + 1\n",
    "#                     d[9] = d[9] + a[i][0]\n",
    "                \n",
    "            \n",
    "#             p = duplicates(c, max(c))\n",
    "            \n",
    "            \n",
    "            \n",
    "#             if (len(p)>1):\n",
    "                \n",
    "#                 q= [ d[i] for i in p ]\n",
    "                \n",
    "#                 if d.index(min(q)) == validation_set_list[set_iter][image_iter][1]:\n",
    "#                     correct += 1\n",
    "                \n",
    "                    \n",
    "            \n",
    "            \n",
    "#             else:\n",
    "#                 if c.index(max(c)) == validation_set_list[set_iter][image_iter][1]:\n",
    "#                     correct += 1\n",
    "            \n",
    "           \n",
    "            \n",
    "           \n",
    " #         accuracy = (correct/10000) *100\n",
    "#         graph_plot_list.append([k, accuracy, set_iter])\n",
    "        \n",
    "        \n",
    "        \n",
    "  "
   ]
  },
  {
   "cell_type": "code",
   "execution_count": 21,
   "metadata": {},
   "outputs": [],
   "source": [
    "#part-2 --------------------------------------------------------------------------------"
   ]
  },
  {
   "cell_type": "code",
   "execution_count": 27,
   "metadata": {},
   "outputs": [
    {
     "name": "stderr",
     "output_type": "stream",
     "text": [
      "100%|██████████████████████████████████████████████████████████████████████████████████| 20/20 [00:22<00:00,  1.14s/it]\n"
     ]
    }
   ],
   "source": [
    "graph_plot_list = []\n",
    "for k in tqdm(range(1, 21)):     \n",
    "    for set_iter in range(0, 5):\n",
    "       \n",
    "        correct = 0 \n",
    "        wrong = 0\n",
    "        for image_iter in range(len(fold5)):\n",
    "            \n",
    "            b = per_fold[set_iter][image_iter] # Here we get the 20 closest images for every image in validation_set_list\n",
    "            a = b[0:k]  # Of the 20 values we get the values accordind to the value of k.\n",
    "            c =  [0]*10       \n",
    "            d =  [0]*10\n",
    "            for i in range(len(a)):\n",
    "                if a[i][2] == 0:\n",
    "                    c[0] = c[0] + 1\n",
    "                    d[0] = d[0] + a[i][0]\n",
    "                    \n",
    "                elif a[i][2] == 1:\n",
    "                    c[1] = c[1] + 1\n",
    "                    d[1] = d[1] + a[i][0]\n",
    "                    \n",
    "                elif a[i][2] == 2:\n",
    "                    c[2] = c[2] + 1\n",
    "                    d[2] = d[2] + a[i][0]\n",
    "                    \n",
    "                elif a[i][2] == 3:\n",
    "                    c[3] = c[3] + 1\n",
    "                    d[3] = d[3] + a[i][0]\n",
    "                    \n",
    "                elif a[i][2] == 4:\n",
    "                    c[4] = c[4] + 1\n",
    "                    d[4] = d[4] + a[i][0]\n",
    "                    \n",
    "                elif a[i][2] == 5:\n",
    "                    c[5] = c[5] + 1\n",
    "                    d[5] = d[5] + a[i][0]\n",
    "                    \n",
    "                elif a[i][2] == 6:\n",
    "                    c[6] = c[6] + 1\n",
    "                    d[6] = d[6] + a[i][0]\n",
    "                    \n",
    "                elif a[i][2] == 7:\n",
    "                    c[7] = c[7] + 1\n",
    "                    d[7] = d[7] + a[i][0]\n",
    "                    \n",
    "                elif a[i][2] == 8:\n",
    "                    c[8] = c[8] + 1\n",
    "                    d[8] = d[8] + a[i][0]\n",
    "                    \n",
    "                elif a[i][2] == 9:\n",
    "                    c[9] = c[9] + 1\n",
    "                    d[9] = d[9] + a[i][0]\n",
    "                \n",
    "            \n",
    "            \n",
    "            \n",
    "            if c.index(max(c)) == validation_set_list[set_iter][image_iter][1]:\n",
    "                correct += 1\n",
    "            \n",
    "            \n",
    "            \n",
    "            \n",
    "           \n",
    "            \n",
    "           \n",
    "        accuracy = (correct/10000)*100\n",
    "        graph_plot_list.append([k, accuracy, set_iter])\n",
    "        "
   ]
  },
  {
   "cell_type": "code",
   "execution_count": 28,
   "metadata": {},
   "outputs": [
    {
     "data": {
      "image/png": "[encoded data removed]",
      "text/plain": [
       "<Figure size 432x288 with 1 Axes>"
      ]
     },
     "metadata": {
      "needs_background": "light"
     },
     "output_type": "display_data"
    }
   ],
   "source": [
    "x = []\n",
    "y = []\n",
    "z = []\n",
    "\n",
    "t=[ i for i in range(1,21)]\n",
    "for i in range(len(graph_plot_list)):\n",
    "    x.append(graph_plot_list[i][0])\n",
    "    y.append(graph_plot_list[i][1])\n",
    "for i in range(len(x)):\n",
    "    plt.plot(x,y, '.')\n",
    "    \n",
    "q=0\n",
    "p=[]\n",
    "\n",
    "'''Here we calculate the mean for every values  of k'''\n",
    "\n",
    "for i in range(1,len(graph_plot_list)+1):\n",
    "    q+=graph_plot_list[i-1][1]\n",
    "    if i%5==0:\n",
    "        p.append(q/5)\n",
    "        q=0\n",
    "\n",
    "for i in range(1,21):\n",
    "    plt.plot( i,p[i-1],'o');\n",
    "ax=plt.axes()\n",
    "ax.plot(t,(p))\n",
    "    \n",
    "plt.grid()\n",
    "plt.xlabel('K')\n",
    "plt.ylabel('Cross-validation accuracy')\n",
    "plt.title('Cross-validation on K')\n",
    "  \n",
    "plt.show()\n",
    "    "
   ]
  },
  {
   "cell_type": "code",
   "execution_count": null,
   "metadata": {},
   "outputs": [],
   "source": []
  }
 ],
 "metadata": {
  "kernelspec": {
   "display_name": "Python 3",
   "language": "python",
   "name": "python3"
  },
  "language_info": {
   "codemirror_mode": {
    "name": "ipython",
    "version": 3
   },
   "file_extension": ".py",
   "mimetype": "text/x-python",
   "name": "python",
   "nbconvert_exporter": "python",
   "pygments_lexer": "ipython3",
   "version": "3.7.6"
  },
  "toc": {
   "base_numbering": 1,
   "nav_menu": {},
   "number_sections": true,
   "sideBar": true,
   "skip_h1_title": false,
   "title_cell": "Table of Contents",
   "title_sidebar": "Contents",
   "toc_cell": false,
   "toc_position": {},
   "toc_section_display": true,
   "toc_window_display": false
  }
 },
 "nbformat": 4,
 "nbformat_minor": 4
}
